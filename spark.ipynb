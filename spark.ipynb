{
 "cells": [
  {
   "cell_type": "code",
   "execution_count": 2,
   "metadata": {
    "collapsed": false,
    "scrolled": true
   },
   "outputs": [
    {
     "ename": "SyntaxError",
     "evalue": "invalid syntax (<ipython-input-2-3ebaff00af8e>, line 39)",
     "output_type": "error",
     "traceback": [
      "\u001b[0;36m  File \u001b[0;32m\"<ipython-input-2-3ebaff00af8e>\"\u001b[0;36m, line \u001b[0;32m39\u001b[0m\n\u001b[0;31m    print('Sum of numbers:'sum(my_list))\u001b[0m\n\u001b[0m                             ^\u001b[0m\n\u001b[0;31mSyntaxError\u001b[0m\u001b[0;31m:\u001b[0m invalid syntax\n"
     ]
    }
   ],
   "source": [
    "from pyspark import SparkContext\n",
    "from pyspark import SparkConf\n",
    "from numpy import prod\n",
    "\n",
    "conf=SparkConf()\n",
    "conf.set(\"spark.executor.memory\", \"1g\")\n",
    "conf.set(\"spark.cores.max\", \"2\")\n",
    "conf.setAppName(\"first_stream\")\n",
    "sc = SparkContext('local[2]', conf=conf)\n",
    "from pyspark.streaming import StreamingContext\n",
    "\n",
    "#............................................................................\n",
    "##   Streaming with TCP/IP data\n",
    "#............................................................................\n",
    "\n",
    "#Create streaming context with latency of 1\n",
    "streamContext = StreamingContext(sc,1)\n",
    "\n",
    "totalLines=0\n",
    "lines = streamContext.socketTextStream(\"localhost\", 9000)\n",
    "\n",
    "#Count lines\n",
    "totalLines=0\n",
    "linesCount=0\n",
    "my_list = []\n",
    "my_sum = 0\n",
    "def computeMetrics(rdd):\n",
    "    global totalLines\n",
    "    global linesCount\n",
    "    global my_sum\n",
    "    linesCount=rdd.count()\n",
    "    totalLines+=linesCount\n",
    "    tm=rdd.collect()\n",
    "    results = list(map(int, tm))\n",
    "    my_list.extend(results)\n",
    "    print (\"New numbers:\",results)\n",
    "    print (\"Lines in RDD :\", linesCount,\" Total Lines:\",totalLines)\n",
    "    print (\"my_full_list :\", my_list)\n",
    "    print('Sum of numbers:',sum(my_list))\n",
    "    \n",
    "\n",
    "\n",
    "lines.foreachRDD(computeMetrics)\n",
    "\n",
    "streamContext.start()\n",
    "\n",
    "\n"
   ]
  },
  {
   "cell_type": "code",
   "execution_count": null,
   "metadata": {
    "collapsed": true
   },
   "outputs": [],
   "source": []
  }
 ],
 "metadata": {
  "anaconda-cloud": {},
  "kernelspec": {
   "display_name": "Python [default]",
   "language": "python",
   "name": "python3"
  },
  "language_info": {
   "codemirror_mode": {
    "name": "ipython",
    "version": 3
   },
   "file_extension": ".py",
   "mimetype": "text/x-python",
   "name": "python",
   "nbconvert_exporter": "python",
   "pygments_lexer": "ipython3",
   "version": "3.5.2"
  }
 },
 "nbformat": 4,
 "nbformat_minor": 1
}
