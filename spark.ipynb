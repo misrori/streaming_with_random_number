{
 "cells": [
  {
   "cell_type": "code",
   "execution_count": 1,
   "metadata": {
    "collapsed": false,
    "scrolled": true
   },
   "outputs": [
    {
     "name": "stdout",
     "output_type": "stream",
     "text": [
      "-------------------------------------------\n",
      "Time: 2017-03-31 14:05:30\n",
      "-------------------------------------------\n",
      "\n",
      "[]\n",
      "my_full_list : [[]]\n",
      "Overall lines : 0\n",
      "-------------------------------------------\n",
      "Time: 2017-03-31 14:05:35\n",
      "-------------------------------------------\n",
      "('837', 1)\n",
      "('397', 1)\n",
      "('731', 1)\n",
      "('350', 1)\n",
      "('393', 1)\n",
      "\n",
      "['731', '837', '397', '393', '350']\n",
      "my_full_list : [[], ['731', '837', '397', '393', '350']]\n",
      "Overall lines : 5\n",
      "-------------------------------------------\n",
      "Time: 2017-03-31 14:05:40\n",
      "-------------------------------------------\n",
      "('966', 1)\n",
      "('112', 1)\n",
      "('34', 1)\n",
      "('571', 1)\n",
      "('917', 1)\n",
      "\n",
      "['34', '966', '112', '571', '917']\n",
      "my_full_list : [[], ['731', '837', '397', '393', '350'], ['34', '966', '112', '571', '917']]\n",
      "Overall lines : 10\n",
      "-------------------------------------------\n",
      "Time: 2017-03-31 14:05:45\n",
      "-------------------------------------------\n",
      "('682', 1)\n",
      "('461', 1)\n",
      "('834', 1)\n",
      "('870', 1)\n",
      "('687', 1)\n",
      "\n",
      "['870', '834', '682', '687', '461']\n",
      "my_full_list : [[], ['731', '837', '397', '393', '350'], ['34', '966', '112', '571', '917'], ['870', '834', '682', '687', '461']]\n",
      "Overall lines : 15\n",
      "-------------------------------------------\n",
      "Time: 2017-03-31 14:05:50\n",
      "-------------------------------------------\n",
      "('179', 1)\n",
      "('962', 1)\n",
      "('222', 1)\n",
      "('81', 1)\n",
      "('172', 1)\n",
      "\n",
      "['179', '172', '962', '222', '81']\n",
      "my_full_list : [[], ['731', '837', '397', '393', '350'], ['34', '966', '112', '571', '917'], ['870', '834', '682', '687', '461'], ['179', '172', '962', '222', '81']]\n",
      "Overall lines : 20\n"
     ]
    }
   ],
   "source": [
    "from pyspark import SparkContext\n",
    "from pyspark import SparkConf\n",
    "\n",
    "conf=SparkConf()\n",
    "conf.set(\"spark.executor.memory\", \"1g\")\n",
    "conf.set(\"spark.cores.max\", \"2\")\n",
    "conf.setAppName(\"first_stream\")\n",
    "sc = SparkContext('local[2]', conf=conf)\n",
    "from pyspark.streaming import StreamingContext\n",
    "\n",
    "#............................................................................\n",
    "##   Streaming with TCP/IP data\n",
    "#............................................................................\n",
    "\n",
    "#Create streaming context with latency of 1\n",
    "streamContext = StreamingContext(sc,5)\n",
    "\n",
    "totalLines=0\n",
    "lines = streamContext.socketTextStream(\"localhost\", 9000)\n",
    "\n",
    "\n",
    "#Word count within RDD    \n",
    "words = lines.flatMap(lambda line: line.split(\" \"))\n",
    "pairs = words.map(lambda word: (word, 1))\n",
    "wordCounts = pairs.reduceByKey(lambda x, y: x + y)\n",
    "wordCounts.pprint(5)\n",
    "\n",
    "\n",
    "#Count lines\n",
    "totalLines=0\n",
    "linesCount=0\n",
    "my_list = []\n",
    "def computeMetrics(rdd):\n",
    "    global totalLines\n",
    "    global linesCount\n",
    "    linesCount=rdd.count()\n",
    "    totalLines+=linesCount\n",
    "    tm=rdd.collect()\n",
    "    my_list.append(tm)\n",
    "    print (rdd.collect())\n",
    "    #print (\"Lines in RDD :\", linesCount,\" Total Lines:\",totalLines)\n",
    "    print (\"my_full_list :\", my_list)\n",
    "    print (\"Overall lines :\", totalLines)\n",
    "\n",
    "lines.foreachRDD(computeMetrics)\n",
    "\n",
    "streamContext.start()\n",
    "\n",
    "\n"
   ]
  },
  {
   "cell_type": "code",
   "execution_count": null,
   "metadata": {
    "collapsed": false
   },
   "outputs": [],
   "source": [
    "#Count lines\n",
    "totalLines=0\n",
    "linesCount=0\n",
    "\n",
    "def computeMetrics(rdd):\n",
    "    global totalLines\n",
    "    global linesCount\n",
    "    linesCount=rdd.count()\n",
    "    totalLines+=linesCount\n",
    "    print rdd.collect()\n",
    "    print \"Lines in RDD :\", linesCount,\" Total Lines:\",totalLines\n",
    "\n",
    "lines.foreachRDD(computeMetrics)\n",
    "\n",
    "streamContext.start()\n",
    "print \"Overall lines :\", totalLines\n"
   ]
  },
  {
   "cell_type": "code",
   "execution_count": null,
   "metadata": {
    "collapsed": false
   },
   "outputs": [],
   "source": [
    "adat = sc.parallelize(range(10))"
   ]
  },
  {
   "cell_type": "code",
   "execution_count": null,
   "metadata": {
    "collapsed": false
   },
   "outputs": [],
   "source": [
    "adatom= adat.collect()"
   ]
  },
  {
   "cell_type": "code",
   "execution_count": null,
   "metadata": {
    "collapsed": false
   },
   "outputs": [],
   "source": [
    "my_list = [0,1]"
   ]
  },
  {
   "cell_type": "code",
   "execution_count": null,
   "metadata": {
    "collapsed": false
   },
   "outputs": [],
   "source": [
    "my_list.append([11,1,11,12])"
   ]
  },
  {
   "cell_type": "code",
   "execution_count": null,
   "metadata": {
    "collapsed": false
   },
   "outputs": [],
   "source": [
    "my_list"
   ]
  },
  {
   "cell_type": "code",
   "execution_count": null,
   "metadata": {
    "collapsed": false
   },
   "outputs": [],
   "source": [
    "from pyspark import SparkContext\n",
    "from pyspark import SparkConf\n",
    "\n",
    "conf=SparkConf()\n",
    "conf.set(\"spark.executor.memory\", \"1g\")\n",
    "conf.set(\"spark.cores.max\", \"2\")\n",
    "conf.setAppName(\"first_stream\")\n",
    "sc = SparkContext('local[2]', conf=conf)\n",
    "from pyspark.streaming import StreamingContext"
   ]
  },
  {
   "cell_type": "code",
   "execution_count": null,
   "metadata": {
    "collapsed": true
   },
   "outputs": [],
   "source": []
  }
 ],
 "metadata": {
  "anaconda-cloud": {},
  "kernelspec": {
   "display_name": "Python [default]",
   "language": "python",
   "name": "python3"
  },
  "language_info": {
   "codemirror_mode": {
    "name": "ipython",
    "version": 3
   },
   "file_extension": ".py",
   "mimetype": "text/x-python",
   "name": "python",
   "nbconvert_exporter": "python",
   "pygments_lexer": "ipython3",
   "version": "3.5.2"
  }
 },
 "nbformat": 4,
 "nbformat_minor": 1
}
